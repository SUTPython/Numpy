{
  "nbformat": 4,
  "nbformat_minor": 0,
  "metadata": {
    "colab": {
      "provenance": []
    },
    "kernelspec": {
      "name": "python3",
      "display_name": "Python 3"
    },
    "language_info": {
      "name": "python"
    }
  },
  "cells": [
    {
      "cell_type": "markdown",
      "source": [
        "# 1. Installation and Array *Basics*"
      ],
      "metadata": {
        "id": "8QAv6Ovhu-0p"
      }
    },
    {
      "cell_type": "markdown",
      "source": [
        "<div dir=\"rtl\" style=\"text-align: right;\">\n",
        "\n",
        "NumPy کتابخانه‌ی اصلی برای محاسبات علمی در Python است. شیء مرکزی در کتابخانه‌ی NumPy، آرایه‌ی NumPy است. آرایه‌ی NumPy یک شیء آرایه‌ی چندبعدی با عملکرد بالا است که به طور خاص برای انجام عملیات ریاضی، جبر خطی، و محاسبات احتمالات طراحی شده است. استفاده از آرایه‌ی NumPy معمولاً بسیار سریع‌تر است و به کد کمتری نسبت به استفاده از لیست‌های Python نیاز دارد. بخش بزرگی از کتابخانه‌ی NumPy از کد C تشکیل شده که API مربوط به Python به عنوان یک wrapper دور این توابع C عمل می‌کند. این یکی از دلایلی است که NumPy بسیار سریع است.\n",
        "\n",
        "بیشتر کتابخانه‌های محبوب Machine Learning، Deep Learning، و Data Science در زیرساخت خود از NumPy استفاده می‌کنند:\n",
        "\n",
        "- Scikit-learn\n",
        "- Matplotlib\n",
        "- Pandas\n",
        "\n",
        "موارد استفاده‌ی مختلف و عملیات‌هایی که می‌توان به راحتی با NumPy انجام داد عبارتند از:\n",
        "\n",
        "- ضرب داخلی (Dot product/inner product)\n",
        "- ضرب ماتریسی (Matrix multiplication)\n",
        "- ضرب المان به المان ماتریس (Element wise matrix product)\n",
        "- حل دستگاه معادلات خطی (Solving linear systems)\n",
        "- محاسبه‌ی معکوس ماتریس (Inverse)\n",
        "- محاسبه‌ی دترمینان (Determinant)\n",
        "- انتخاب اعداد تصادفی (مثلاً توزیع Gaussian یا Uniform)\n",
        "- کار با تصاویری که به صورت آرایه نمایش داده می‌شوند\n",
        "\n",
        "</div>"
      ],
      "metadata": {
        "id": "9EA5GAkeulzd"
      }
    },
    {
      "cell_type": "markdown",
      "source": [
        "# 2. Installation and Array Basics"
      ],
      "metadata": {
        "id": "uXMDklR9u6V8"
      }
    },
    {
      "cell_type": "code",
      "source": [
        "! pip install numpy\n",
        "# ! conda install numpy"
      ],
      "metadata": {
        "colab": {
          "base_uri": "https://localhost:8080/"
        },
        "id": "sCF7MJj5um7E",
        "outputId": "d66bd42b-3767-4e27-f57d-578a4c3df394"
      },
      "execution_count": 50,
      "outputs": [
        {
          "output_type": "stream",
          "name": "stdout",
          "text": [
            "Requirement already satisfied: numpy in /usr/local/lib/python3.11/dist-packages (2.0.2)\n"
          ]
        }
      ]
    },
    {
      "cell_type": "code",
      "source": [
        "import numpy as np"
      ],
      "metadata": {
        "id": "D9k1B3ASvTNH"
      },
      "execution_count": 51,
      "outputs": []
    },
    {
      "cell_type": "code",
      "source": [
        "np.__version__"
      ],
      "metadata": {
        "colab": {
          "base_uri": "https://localhost:8080/",
          "height": 35
        },
        "id": "j-C4TiVpvTno",
        "outputId": "fcce0007-9850-405d-b108-0c623a7ddc32"
      },
      "execution_count": 52,
      "outputs": [
        {
          "output_type": "execute_result",
          "data": {
            "text/plain": [
              "'2.0.2'"
            ],
            "application/vnd.google.colaboratory.intrinsic+json": {
              "type": "string"
            }
          },
          "metadata": {},
          "execution_count": 52
        }
      ]
    },
    {
      "cell_type": "markdown",
      "source": [
        "<p dir=\"rtl\">\n",
        "\n",
        "- در این کد، یک آرایه‌ی NumPy به نام `a` تعریف شده که شامل عناصر `[1, 2, 3, 4, 5]` است.\n",
        "- `a.shape` : شکل آرایه را نشان می‌دهد که `(5,)` است، یعنی آرایه یک‌بُعدی با ۵ عنصر دارد.\n",
        "- `a.dtype` : نوع داده‌ی عناصر آرایه را نشان می‌دهد که `int32` است (عدد صحیح ۳۲ بیتی).\n",
        "- `a.ndim` : تعداد بُعدهای آرایه را مشخص می‌کند. این آرایه یک‌بُعدی است (`1`).\n",
        "- `a.size` : تعداد کل عناصر آرایه را می‌دهد که برابر با `5` است.\n",
        "- `a.itemsize` : اندازه‌ی هر عنصر آرایه (بر حسب بایت) را نشان می‌دهد که در اینجا `4` بایت است.\n",
        "\n",
        "</p>\n"
      ],
      "metadata": {
        "id": "3-m072C9v_WH"
      }
    },
    {
      "cell_type": "code",
      "source": [
        "a = np.array([1,2,3,4,5])\n",
        "a # [1 2 3 4 5]\n",
        "a.shape # shape of the array: (5,)\n",
        "a.dtype # type of the elements: int32\n",
        "a.ndim # number of dimensions: 1\n",
        "a.size # total number of elements: 5\n",
        "a.itemsize # the size in bytes of each element: 4"
      ],
      "metadata": {
        "colab": {
          "base_uri": "https://localhost:8080/"
        },
        "id": "KR2Uv3_OvWQd",
        "outputId": "9cb7108a-4b10-48a4-baa5-7583d0e12ff6"
      },
      "execution_count": 53,
      "outputs": [
        {
          "output_type": "execute_result",
          "data": {
            "text/plain": [
              "8"
            ]
          },
          "metadata": {},
          "execution_count": 53
        }
      ]
    },
    {
      "cell_type": "code",
      "source": [
        "a.itemsize"
      ],
      "metadata": {
        "colab": {
          "base_uri": "https://localhost:8080/"
        },
        "id": "hxIYVTGT-eVI",
        "outputId": "30e15bfe-2e46-49ff-dc0a-2e03886ad1b6"
      },
      "execution_count": 54,
      "outputs": [
        {
          "output_type": "execute_result",
          "data": {
            "text/plain": [
              "8"
            ]
          },
          "metadata": {},
          "execution_count": 54
        }
      ]
    },
    {
      "cell_type": "markdown",
      "source": [
        "## Essential methods"
      ],
      "metadata": {
        "id": "jS1_6DLHwJBw"
      }
    },
    {
      "cell_type": "code",
      "source": [
        "a = np.array([1,2,3])\n",
        "# access and change elements\n",
        "print(a[0]) # 1\n",
        "a[0] = 5\n",
        "print(a[0]) # [5 2 3]\n",
        "\n",
        "# elementwise math operations\n",
        "b = a * np.array([2,0,2])\n",
        "print(b) # [10  0  6]\n",
        "\n",
        "print(a.mean()) # 10"
      ],
      "metadata": {
        "colab": {
          "base_uri": "https://localhost:8080/"
        },
        "id": "82tZwRsOvbhA",
        "outputId": "00697377-58e9-4113-998e-866f1d7da6d1"
      },
      "execution_count": 55,
      "outputs": [
        {
          "output_type": "stream",
          "name": "stdout",
          "text": [
            "1\n",
            "5\n",
            "[10  0  6]\n",
            "3.3333333333333335\n"
          ]
        }
      ]
    },
    {
      "cell_type": "markdown",
      "source": [
        "# 3. Array vs List"
      ],
      "metadata": {
        "id": "UY0guUSOweHY"
      }
    },
    {
      "cell_type": "markdown",
      "source": [
        "<p dir=\"rtl\">\n",
        "\n",
        "- یک لیست `l` و یک آرایه‌ی `a` با مقادیر `[1, 2, 3]` ساخته شده‌اند.\n",
        "- چاپ `l` و `a` نشان می‌دهد که ظاهر داده‌ها مشابه است، اما آرایه‌ی NumPy ساختار متفاوتی دارد.\n",
        "- افزودن عنصر جدید:\n",
        "  - می‌توان به راحتی به لیست `l` مقدار `4` را اضافه کرد.\n",
        "  - ولی آرایه‌ی NumPy (`a`) اندازه‌ی ثابتی دارد و `append` مستقیم باعث خطا می‌شود.\n",
        "- برای افزودن آیتم به آرایه، آرایه‌ی جدیدی ساخته می‌شود:\n",
        "  - `l2 = l + [5]` یک لیست جدید `[1, 2, 3, 4, 5]` می‌سازد.\n",
        "  - `a2 = a + np.array([4])` عملیات broadcasting انجام می‌دهد و `4` را به هر عنصر `a` اضافه می‌کند، نتیجه `[5, 6, 7]` می‌شود.\n",
        "- جمع برداری واقعی:\n",
        "  - `a3 = a + np.array([4, 4, 4])`، که جمع عنصر به عنصر را انجام می‌دهد و نتیجه `[5, 6, 7]` است.\n",
        "  - اگر اندازه‌ی آرایه‌ها متفاوت باشد، خطا ایجاد می‌شود.\n",
        "- ضرب:\n",
        "  - `2 * l` لیست را تکرار می‌کند و نتیجه `[1, 2, 3, 4, 1, 2, 3, 4]` است.\n",
        "  - `2 * a` هر عنصر آرایه را در ۲ ضرب می‌کند و نتیجه `[2, 4, 6]` است.\n",
        "- تغییر هر عنصر:\n",
        "  - با استفاده از حلقه یا list comprehension می‌توان مربع هر عنصر لیست را محاسبه کرد (`[1, 4, 9, 16]`).\n",
        "  - برای آرایه، `a**2` مستقیماً مربع هر عنصر را حساب می‌کند (`[1, 4, 9]`).\n",
        "- توابع بر روی آرایه:\n",
        "  - توابعی مانند `np.sqrt(a)`, `np.exp(a)`, `np.tanh(a)` به صورت عنصر به عنصر عمل می‌کنند.\n",
        "  - `np.sqrt(a)` جذر عناصر را محاسبه می‌کند.\n",
        "  - `np.log(a)` لگاریتم طبیعی عناصر را محاسبه می‌کند.\n",
        "\n",
        "</p>\n"
      ],
      "metadata": {
        "id": "Sen43obzwr8y"
      }
    },
    {
      "cell_type": "code",
      "source": [
        "l = [1,2,3]\n",
        "a = np.array([1,2,3])# create an array from a list\n",
        "print(l) # [1, 2, 3]\n",
        "print(a) # [1 2 3]\n",
        "\n",
        "# adding new item\n",
        "l.append(4)\n",
        "# a.append(4) #error: size of array is fixed\n",
        "\n",
        "# there are ways to add items, but this essentially creates new arrays\n",
        "l2 = l + [5]\n",
        "print(l2) # [1, 2, 3, 4, 5]\n",
        "\n",
        "a2 = a + np.array([4])\n",
        "print(a2) # this is called broadcasting, adds 4 to each element\n",
        "# -> [5 6 7]\n",
        "\n",
        "# vector addidion (this is technically correct compared to broadcasting)\n",
        "a3 = a + np.array([4,4,4])\n",
        "print(a3) # [5 6 7]\n",
        "\n",
        "# a3 = a + np.array([4,5]) # error, can't add vectors of different sizes\n",
        "\n",
        "# multiplication\n",
        "l2 = 2 * l # list l repeated 2 times, same a l+l\n",
        "print(l2)\n",
        "# -> [1, 2, 3, 4, 1, 2, 3, 4]\n",
        "\n",
        "a3 = 2 * a # multiplication for each element\n",
        "print(a3)\n",
        "# -> [2 4 6]\n",
        "\n",
        "# modify each item in the list\n",
        "l2 = []\n",
        "for i in l:\n",
        "    l2.append(i**2)\n",
        "print(l2) # [1, 4, 9, 16]\n",
        "\n",
        "# or list comprehension\n",
        "l2 = [i**2 for i in l]\n",
        "print(l2) # [1, 4, 9, 16]\n",
        "\n",
        "a2 = a**2 # -> squares each element!\n",
        "print(a2) # [1 4 9]\n",
        "\n",
        "# Note: function applied to array usually operates element wise\n",
        "a2 = np.sqrt(a) # np.exp(a), np.tanh(a)\n",
        "print(a2) # [1. 1.41421356 1.73205081]\n",
        "a2 = np.log(a)\n",
        "print(a2) # [0. 0.69314718 1.09861229]\n",
        "\n"
      ],
      "metadata": {
        "id": "YCxJwX8YwqZ8",
        "colab": {
          "base_uri": "https://localhost:8080/"
        },
        "outputId": "d7510ab2-d275-4651-da51-61a71f895316"
      },
      "execution_count": 56,
      "outputs": [
        {
          "output_type": "stream",
          "name": "stdout",
          "text": [
            "[1, 2, 3]\n",
            "[1 2 3]\n",
            "[1, 2, 3, 4, 5]\n",
            "[5 6 7]\n",
            "[5 6 7]\n",
            "[1, 2, 3, 4, 1, 2, 3, 4]\n",
            "[2 4 6]\n",
            "[1, 4, 9, 16]\n",
            "[1, 4, 9, 16]\n",
            "[1 4 9]\n",
            "[1.         1.41421356 1.73205081]\n",
            "[0.         0.69314718 1.09861229]\n"
          ]
        }
      ]
    },
    {
      "cell_type": "markdown",
      "source": [
        "# 4. Dot Product"
      ],
      "metadata": {
        "id": "N39oFWMTxJ39"
      }
    },
    {
      "cell_type": "markdown",
      "source": [
        "<p dir=\"rtl\">\n",
        "\n",
        "- دو آرایه‌ی `a` و `b` به ترتیب با مقادیر `[1, 2]` و `[3, 4]` ساخته شده‌اند.\n",
        "- هدف محاسبه‌ی ضرب داخلی (dot product) بین این دو آرایه است.\n",
        "- روش دستی (مخصوص لیست‌ها):\n",
        "  - از یک حلقه‌ی `for` استفاده شده و حاصل‌ضرب هر جفت عنصر محاسبه و با هم جمع شده‌اند.\n",
        "  - نتیجه برابر با `11` شده است.\n",
        "- روش آسان‌تر با NumPy:\n",
        "  - تابع `np.dot(a, b)` به طور مستقیم ضرب داخلی را محاسبه می‌کند و خروجی `11` است.\n",
        "- محاسبه‌ی گام به گام:\n",
        "  - ابتدا ضرب عنصر به عنصر انجام شده (`c = a * b`) که نتیجه `[3, 8]` است.\n",
        "  - سپس مجموع این آرایه محاسبه شده (`d = np.sum(c)`) که مقدار `11` را به دست می‌دهد.\n",
        "- روش‌های دیگر:\n",
        "  - از متدهای نمونه (instance methods) نیز می‌توان استفاده کرد:\n",
        "    - `a.dot(b)`\n",
        "    - `(a*b).sum()`\n",
        "- در نسخه‌های جدیدتر پایتون و NumPy:\n",
        "  - می‌توان از عملگر `@` برای محاسبه‌ی ضرب داخلی استفاده کرد: `a @ b` که نتیجه همان `11` خواهد بود.\n",
        "\n",
        "</p>\n"
      ],
      "metadata": {
        "id": "EbKRto6sxZsh"
      }
    },
    {
      "cell_type": "code",
      "source": [
        "a = np.array([1,2])\n",
        "b = np.array([3,4])\n",
        "\n",
        "# sum of the products of the corresponding entries\n",
        "# multiply each corresponding elements and then take the sum\n",
        "\n",
        "# cumbersome way for lists\n",
        "dot = 0\n",
        "for i in range(len(a)):\n",
        "    dot += a[i] * b[i]\n",
        "print(dot) # 11\n",
        "\n",
        "# easy with numpy :)\n",
        "dot = np.dot(a,b)\n",
        "print(dot) # 11\n",
        "\n",
        "# step by step manually\n",
        "c = a * b\n",
        "print(c) # [3 8]\n",
        "d = np.sum(c)\n",
        "print(d) # 11\n",
        "\n",
        "# most of these functions are also instance methods\n",
        "dot = a.dot(b)\n",
        "print(dot) # 11\n",
        "dot = (a*b).sum()\n",
        "print(dot) # 11\n",
        "\n",
        "# in newer versions\n",
        "dot = a @ b\n",
        "print(dot) # 11"
      ],
      "metadata": {
        "id": "QKtCjJFpw3i0",
        "colab": {
          "base_uri": "https://localhost:8080/"
        },
        "outputId": "e37ed4ca-6e3b-4850-f276-a3578f2d5914"
      },
      "execution_count": 57,
      "outputs": [
        {
          "output_type": "stream",
          "name": "stdout",
          "text": [
            "11\n",
            "11\n",
            "[3 8]\n",
            "11\n",
            "11\n",
            "11\n",
            "11\n"
          ]
        }
      ]
    },
    {
      "cell_type": "markdown",
      "source": [
        "# 5. Speed Test array vs list"
      ],
      "metadata": {
        "id": "OVe_rctXxp8V"
      }
    },
    {
      "cell_type": "markdown",
      "source": [
        "<p dir=\"rtl\">\n",
        "\n",
        "- در این کد، هدف مقایسه‌ی سرعت محاسبه‌ی ضرب داخلی (`dot product`) بین لیست‌های معمولی پایتون و آرایه‌های NumPy است.\n",
        "- ابتدا دو آرایه‌ی تصادفی `a` و `b` با ۱۰۰۰ عنصر ساخته شده و معادل لیستی آن‌ها (`A` و `B`) نیز ایجاد شده است.\n",
        "- دو تابع تعریف شده است:\n",
        "  - `dot1()` : محاسبه‌ی ضرب داخلی با استفاده از حلقه‌ی `for` روی لیست‌های معمولی.\n",
        "  - `dot2()` : محاسبه‌ی ضرب داخلی با استفاده از تابع بهینه‌ی `np.dot` روی آرایه‌های NumPy.\n",
        "- برای هر روش، زمان اجرا اندازه‌گیری شده است:\n",
        "  - `timer()` از ماژول `timeit` برای ثبت زمان شروع و پایان استفاده شده است.\n",
        "  - هر تابع `T=1000` بار اجرا شده تا زمان محاسبه قابل توجه باشد.\n",
        "- نتایج:\n",
        "  - زمان اجرای `dot1()` (لیست‌ها) بسیار بیشتر از `dot2()` (آرایه‌ها) است.\n",
        "  - نسبت سرعت محاسبه شده نشان می‌دهد که آرایه‌های NumPy حدود ۱۷۲ برابر سریع‌تر هستند.\n",
        "\n",
        "</p>\n"
      ],
      "metadata": {
        "id": "gKomamChx7nO"
      }
    },
    {
      "cell_type": "code",
      "source": [
        "from timeit import default_timer as timer\n",
        "\n",
        "a = np.random.randn(1000)\n",
        "b = np.random.randn(1000)\n",
        "\n",
        "A = list(a)\n",
        "B = list(b)\n",
        "\n",
        "T = 1000\n",
        "\n",
        "def dot1():\n",
        "    dot = 0\n",
        "    for i in range(len(A)):\n",
        "        dot += A[i]*B[i]\n",
        "    return dot\n",
        "\n",
        "def dot2():\n",
        "    return np.dot(a,b)\n",
        "\n",
        "start = timer()\n",
        "for t in range(T):\n",
        "    dot1()\n",
        "end = timer()\n",
        "t1 = end-start\n",
        "\n",
        "start = timer()\n",
        "for t in range(T):\n",
        "    dot2()\n",
        "end = timer()\n",
        "t2 = end-start\n",
        "\n",
        "print('Time with lists:', t1) # -> 0.19371\n",
        "print('Time with array:', t2) # -> 0.00112\n",
        "print('Ratio', t1/t2)         # -> 172.332 times faster"
      ],
      "metadata": {
        "colab": {
          "base_uri": "https://localhost:8080/"
        },
        "id": "6UXFeaC1xYFR",
        "outputId": "980c95c4-9217-41bf-a014-64fe1b528275"
      },
      "execution_count": 58,
      "outputs": [
        {
          "output_type": "stream",
          "name": "stdout",
          "text": [
            "Time with lists: 0.3397058709999783\n",
            "Time with array: 0.002729538999574288\n",
            "Ratio 124.45540109628784\n"
          ]
        }
      ]
    },
    {
      "cell_type": "markdown",
      "source": [
        "# 6. Multidimensional (nd) arrays"
      ],
      "metadata": {
        "id": "LDEvJiJ5yBmP"
      }
    },
    {
      "cell_type": "markdown",
      "source": [
        "<p dir=\"rtl\">\n",
        "\n",
        "- آرایه‌ی `a` به صورت ماتریس `2×2` تعریف شده است:\n",
        "- `a.shape` : شکل آرایه را نمایش می‌دهد که `(2, 2)` است.\n",
        "- دسترسی به عناصر:\n",
        "- `a[0]` : سطر اول را می‌دهد `[1 2]`.\n",
        "- `a[0][0]` یا `a[0,0]` : عنصر در سطر ۰ و ستون ۰، یعنی `1` را می‌دهد.\n",
        "- برش (slicing):\n",
        "- `a[:,0]` : تمام سطرها در ستون اول را می‌دهد `[1 3]`.\n",
        "- `a[0,:]` : تمام ستون‌ها در سطر اول را می‌دهد `[1 2]`.\n",
        "- ترانهاده (Transpose):\n",
        "- `a.T` ماتریس `a` را ترانهاده می‌کند (ردیف‌ها و ستون‌ها را جابه‌جا می‌کند).\n",
        "- ضرب ماتریسی:\n",
        "- `c = a.dot(b)` ضرب ماتریسی `a` و `b` را محاسبه می‌کند.\n",
        "- توجه: ابعاد داخلی باید با هم مطابقت داشته باشند.\n",
        "- اگر لازم باشد، می‌توان `b` را ترانهاده کرد (`b.T`) تا ابعاد مناسب شوند.\n",
        "- ضرب عنصری:\n",
        "- `d = a * b` ضرب عنصر به عنصر بین `a` و `b` انجام می‌دهد.\n",
        "- دترمینان (Determinant):\n",
        "- `np.linalg.det(a)` دترمینان ماتریس `a` را محاسبه می‌کند.\n",
        "- معکوس ماتریس:\n",
        "- `np.linalg.inv(a)` معکوس ماتریس `a` را محاسبه می‌کند (اگر ماتریس معکوس‌پذیر باشد).\n",
        "- کار با قطر اصلی (Diagonal):\n",
        "- `np.diag(a)` عناصر قطر اصلی ماتریس `a` را به صورت آرایه باز می‌گرداند `[1, 4]`.\n",
        "- `np.diag([1, 4])` یک ماتریس قطری با عناصر `1` و `4` می‌سازد:\n",
        "  ```\n",
        "  [[1 0]\n",
        "   [0 4]]\n",
        "  ```\n",
        "\n",
        "</p>\n"
      ],
      "metadata": {
        "id": "WfDD0FPCy075"
      }
    },
    {
      "cell_type": "code",
      "source": [
        "# (matrix class exists but not recommended to use)\n",
        "a = np.array([[1,2], [3,4]])\n",
        "print(a)\n",
        "#[[1 2]\n",
        "#[3 4]]\n",
        "\n",
        "print(a.shape) # (2, 2)\n",
        "\n",
        "# Access elements\n",
        "# row first, then columns\n",
        "print(a[0]) # [1 2]\n",
        "print(a[0][1]) # 1\n",
        "# or\n",
        "print(a[0,0]) # 1\n",
        "\n",
        "# slicing\n",
        "print(a[:,0]) # all rows in col 0:    [1 3]\n",
        "print(a[0,:]) # all columns in row 0: [1 2]\n",
        "\n",
        "# transpose\n",
        "a.T\n",
        "\n",
        "# matrix multiplication\n",
        "b = np.array([[3, 4], [5,6]])\n",
        "c = a.dot(b)\n",
        "c\n",
        "\n",
        "d = a * b # elementwise multiplication\n",
        "\n",
        "# inner dimensions must match!\n",
        "b = np.array([[1,2], [4,5]]) # Changed b to have shape (2, 2)\n",
        "c = a.dot(b.T) # Now b.T has shape (2, 2) which is compatible with a\n",
        "\n",
        "# determinant\n",
        "c = np.linalg.det(a)\n",
        "c\n",
        "\n",
        "# inverse\n",
        "c = np.linalg.inv(a)\n",
        "\n",
        "# diag\n",
        "c = np.diag(a)\n",
        "print(c) # [1 4]\n",
        "\n",
        "# diag on a vector returns diagonal matrix (overloaded function)\n",
        "c = np.diag([1,4])\n",
        "print(c)\n",
        "# [[1 0]\n",
        "#  [0 4]]"
      ],
      "metadata": {
        "id": "Z0H2ePFmxtyn",
        "colab": {
          "base_uri": "https://localhost:8080/"
        },
        "outputId": "8aadc6b3-d9b7-4a3b-ca32-d418de26c2f5"
      },
      "execution_count": 59,
      "outputs": [
        {
          "output_type": "stream",
          "name": "stdout",
          "text": [
            "[[1 2]\n",
            " [3 4]]\n",
            "(2, 2)\n",
            "[1 2]\n",
            "2\n",
            "1\n",
            "[1 3]\n",
            "[1 2]\n",
            "[1 4]\n",
            "[[1 0]\n",
            " [0 4]]\n"
          ]
        }
      ]
    },
    {
      "cell_type": "markdown",
      "source": [
        "# 7. Indexing/Slicing/Boolean Indexing"
      ],
      "metadata": {
        "id": "RagD91Xsy-Xu"
      }
    },
    {
      "cell_type": "markdown",
      "source": [
        "<p dir=\"rtl\">\n",
        "\n",
        "- در این کد با عملیات **برش (Slicing)** و **ایندکس‌گذاری (Indexing)** روی آرایه‌های چندبُعدی NumPy آشنا می‌شویم.\n",
        "- آرایه‌ی `a` یک ماتریس `3×4` تعریف شده است:\n",
        "- ایندکس‌گذاری عدد صحیح (Integer Array Indexing):\n",
        "- `a[0,1]` عنصر سطر ۰ و ستون ۱ را برمی‌گرداند که مقدار آن `2` است.\n",
        "- برش (Slicing):\n",
        "- `a[0,:]` تمام ستون‌های سطر اول (`[1 2 3 4]`) را انتخاب می‌کند.\n",
        "- `a[:,0]` تمام سطرهای ستون اول (`[1 5 9]`) را انتخاب می‌کند.\n",
        "- `a[0:2,1:3]` یک زیرماتریس از سطرهای ۰ و ۱ و ستون‌های ۱ و ۲ را برمی‌گرداند:\n",
        "  ```\n",
        "  [[2 3]\n",
        "   [6 7]]\n",
        "  ```\n",
        "- ایندکس‌گذاری از انتها:\n",
        "- `a[-1,-1]` عنصر آخرین سطر و آخرین ستون را برمی‌گرداند که مقدار `12` است.\n",
        "\n",
        "</p>\n"
      ],
      "metadata": {
        "id": "Ll1MVNbWzER7"
      }
    },
    {
      "cell_type": "markdown",
      "source": [
        "# Indexing and Slicing"
      ],
      "metadata": {
        "id": "SoTNyKWt4kH3"
      }
    },
    {
      "cell_type": "markdown",
      "source": [
        "<p dir=\"rtl\">\n",
        "\n",
        "- آرایه‌ی `a` یک ماتریس `3×4` است که به شکل زیر تعریف شده:\n",
        "- **ایندکس عدد صحیح (Integer Indexing)**:\n",
        "- `a[0,1]` عنصر سطر اول و ستون دوم (عدد `2`) را بازمی‌گرداند.\n",
        "- **برش (Slicing)**:\n",
        "- `a[0,:]` تمام ستون‌های سطر اول را انتخاب می‌کند: `[1 2 3 4]`.\n",
        "- `a[:,0]` تمام سطرهای ستون اول را انتخاب می‌کند: `[1 5 9]`.\n",
        "- `a[0:2,1:3]` زیرماتریسی شامل سطرهای ۰ و ۱ و ستون‌های ۱ و ۲ را برمی‌گرداند:\n",
        "  ```\n",
        "  [[2 3]\n",
        "   [6 7]]\n",
        "  ```\n",
        "- **ایندکس‌گذاری از انتها**:\n",
        "- `a[-1,-1]` عنصر آخرین سطر و آخرین ستون را انتخاب می‌کند که مقدار آن `12` است.\n",
        "\n",
        "</p>\n"
      ],
      "metadata": {
        "id": "mWTXvLJB4_Ss"
      }
    },
    {
      "cell_type": "code",
      "source": [
        "# Slicing: Similar to Python lists, numpy arrays can be sliced.\n",
        "# Since arrays may be multidimensional, you must specify a slice for each\n",
        "# dimension of the array:\n",
        "a = np.array([[1,2,3,4], [5,6,7,8], [9,10,11,12]])\n",
        "print(a)\n",
        "# [[ 1  2  3  4]\n",
        "#  [ 5  6  7  8]\n",
        "#  [ 9 10 11 12]]\n",
        "\n",
        "# Integer array indexing\n",
        "b = a[0,1]\n",
        "print(b) # 2\n",
        "\n",
        "# Slicing\n",
        "row0 = a[0,:]\n",
        "print(row0) # [1 2 3 4]\n",
        "\n",
        "col0 = a[:, 0]\n",
        "print(col0) # [1 5 9]\n",
        "\n",
        "slice_a = a[0:2,1:3]\n",
        "print(slice_a)\n",
        "# [[2 3]\n",
        "#  [6 7]]\n",
        "\n",
        "# indexing starting from the end: -1, -2 etc...\n",
        "last = a[-1,-1]\n",
        "print(last) # 12"
      ],
      "metadata": {
        "colab": {
          "base_uri": "https://localhost:8080/"
        },
        "id": "y8-hDH48yGhB",
        "outputId": "20f9db22-f236-44cd-f7d1-8adde1f7e312"
      },
      "execution_count": 60,
      "outputs": [
        {
          "output_type": "stream",
          "name": "stdout",
          "text": [
            "[[ 1  2  3  4]\n",
            " [ 5  6  7  8]\n",
            " [ 9 10 11 12]]\n",
            "2\n",
            "[1 2 3 4]\n",
            "[1 5 9]\n",
            "[[2 3]\n",
            " [6 7]]\n",
            "12\n"
          ]
        }
      ]
    },
    {
      "cell_type": "markdown",
      "source": [
        "# Boolean indexing"
      ],
      "metadata": {
        "id": "raYXO41U5SKZ"
      }
    },
    {
      "cell_type": "code",
      "source": [
        "# Boolean indexing:\n",
        "a = np.array([[1,2], [3, 4], [5, 6]])\n",
        "print(a)\n",
        "# [[1 2]\n",
        "#  [3 4]\n",
        "#  [5 6]]\n",
        "\n",
        "# same shape with True or False for the condition\n",
        "bool_idx = a > 2\n",
        "print(bool_idx)\n",
        "#  [[False False]\n",
        "#   [ True  True]\n",
        "#   [ True  True]]\n",
        "\n",
        "# note: this will be a rank 1 array!\n",
        "print(a[bool_idx]) # [3 4 5 6]\n",
        "\n",
        "# We can do all of the above in a single concise statement:\n",
        "print(a[a > 2]) # [3 4 5 6]\n",
        "\n",
        "# np.where(): same size with modified values\n",
        "b = np.where(a>2, a, -1)\n",
        "print(b)\n",
        "# [[-1 -1]\n",
        "#  [ 3  4]\n",
        "#  [ 5  6]]\n",
        "\n",
        "# fancy indexing: access multiple indices at once\n",
        "a = np.array([10,19,30,41,50,61])\n",
        "\n",
        "b = a[[1,3,5]]\n",
        "print(b) # [19 41 61]\n",
        "\n",
        "# compute indices where condition is True\n",
        "even = np.argwhere(a%2==0).flatten()\n",
        "print(even) # [0 2 4]\n",
        "\n",
        "a_even = a[even]\n",
        "print(a_even) # [10 30 50]"
      ],
      "metadata": {
        "colab": {
          "base_uri": "https://localhost:8080/"
        },
        "id": "mHFOsueizDr5",
        "outputId": "d2b92eae-60ee-4614-801a-b33dbb939cd8"
      },
      "execution_count": 61,
      "outputs": [
        {
          "output_type": "stream",
          "name": "stdout",
          "text": [
            "[[1 2]\n",
            " [3 4]\n",
            " [5 6]]\n",
            "[[False False]\n",
            " [ True  True]\n",
            " [ True  True]]\n",
            "[3 4 5 6]\n",
            "[3 4 5 6]\n",
            "[[-1 -1]\n",
            " [ 3  4]\n",
            " [ 5  6]]\n",
            "[19 41 61]\n",
            "[0 2 4]\n",
            "[10 30 50]\n"
          ]
        }
      ]
    },
    {
      "cell_type": "markdown",
      "source": [
        "# 8. Reshaping"
      ],
      "metadata": {
        "id": "pjIOk3pw5dZy"
      }
    },
    {
      "cell_type": "code",
      "source": [
        "a = np.arange(1, 7)\n",
        "print(a) # [1 2 3 4 5 6]\n",
        "\n",
        "b = a.reshape((2, 3)) # error if shape cannot be used\n",
        "print(b)\n",
        "# [[1 2 3]\n",
        "#  [4 5 6]]\n",
        "\n",
        "c = a.reshape((3, 2)) # 3 rows, 2 columns\n",
        "print(c)\n",
        "# [[1 2]\n",
        "#  [3 4]\n",
        "#  [5 6]]\n",
        "\n",
        "# newaxis is used to create a new axis in the data\n",
        "# needed when model require the data to be shaped in a certain manner\n",
        "print(a.shape) # (6,)\n",
        "\n",
        "d = a[np.newaxis, :]\n",
        "print(d) # [[1 2 3 4 5 6]]\n",
        "print(d.shape) # (1, 6)\n",
        "\n",
        "e = a[:, np.newaxis]\n",
        "print(e)\n",
        "# [[1]\n",
        "#  [2]\n",
        "#  [3]\n",
        "#  [4]\n",
        "#  [5]\n",
        "#  [6]]\n",
        "print(e.shape) # (6, 1)\n"
      ],
      "metadata": {
        "colab": {
          "base_uri": "https://localhost:8080/"
        },
        "id": "ogx3TEAQ5WLz",
        "outputId": "d00dec64-e71b-46fb-f94b-f852930d849d"
      },
      "execution_count": 62,
      "outputs": [
        {
          "output_type": "stream",
          "name": "stdout",
          "text": [
            "[1 2 3 4 5 6]\n",
            "[[1 2 3]\n",
            " [4 5 6]]\n",
            "[[1 2]\n",
            " [3 4]\n",
            " [5 6]]\n",
            "(6,)\n",
            "[[1 2 3 4 5 6]]\n",
            "(1, 6)\n",
            "[[1]\n",
            " [2]\n",
            " [3]\n",
            " [4]\n",
            " [5]\n",
            " [6]]\n",
            "(6, 1)\n"
          ]
        }
      ]
    },
    {
      "cell_type": "markdown",
      "source": [
        "# 9. Concatenation"
      ],
      "metadata": {
        "id": "u3Ys8e_p6Z-0"
      }
    },
    {
      "cell_type": "markdown",
      "source": [
        "<p dir=\"rtl\">\n",
        "\n",
        "- هدف این بخش، ترکیب آرایه‌های NumPy در ابعاد مختلف است.\n",
        "\n",
        "- **تبدیل به آرایه‌ی یک‌بعدی**:\n",
        "  - `np.concatenate((a, b), axis=None)` آرایه‌های `a` و `b` را در یک آرایه‌ی ۱-بعدی ترکیب می‌کند.\n",
        "  - خروجی: `[1 2 3 4 5 6]`\n",
        "\n",
        "- **افزودن یک سطر جدید**:\n",
        "  - `np.concatenate((a, b), axis=0)` آرایه‌ی `b` را به عنوان یک سطر جدید به `a` اضافه می‌کند.\n",
        "  - خروجی:\n",
        "    ```\n",
        "    [[1 2]\n",
        "     [3 4]\n",
        "     [5 6]]\n",
        "    ```\n",
        "\n",
        "- **افزودن یک ستون جدید**:\n",
        "  - برای افزودن ستون، ابتدا باید `b` را ترانهاده (`b.T`) کنیم و سپس با `a` در امتداد محور ۱ (ستون‌ها) ترکیب کنیم.\n",
        "  - خروجی:\n",
        "    ```\n",
        "    [[1 2 5]\n",
        "     [3 4 6]]\n",
        "    ```\n",
        "\n",
        "- **ترکیب افقی با `hstack`**:\n",
        "  - `np.hstack((a,b))` آرایه‌ها را به صورت افقی (ستونی) در کنار هم قرار می‌دهد.\n",
        "  - برای آرایه‌های ۱-بعدی:\n",
        "    - `[1 2 3 4 5 6 7 8]`\n",
        "  - برای آرایه‌های ۲-بعدی:\n",
        "    ```\n",
        "    [[1 2 5 6]\n",
        "     [3 4 7 8]]\n",
        "    ```\n",
        "\n",
        "- **ترکیب عمودی با `vstack`**:\n",
        "  - `np.vstack((a,b))` آرایه‌ها را به صورت عمودی (سطر به سطر) روی هم قرار می‌دهد.\n",
        "  - برای آرایه‌های ۱-بعدی:\n",
        "    ```\n",
        "    [[1 2 3 4]\n",
        "     [5 6 7 8]]\n",
        "    ```\n",
        "  - برای آرایه‌های ۲-بعدی:\n",
        "    ```\n",
        "    [[1 2]\n",
        "     [3 4]\n",
        "     [5 6]\n",
        "     [7 8]]\n",
        "    ```\n",
        "\n",
        "</p>\n"
      ],
      "metadata": {
        "id": "1UJ8BKRH6vlR"
      }
    },
    {
      "cell_type": "code",
      "source": [
        "a = np.array([[1, 2], [3, 4]])\n",
        "\n",
        "b = np.array([[5, 6]])\n",
        "\n",
        "# combine into 1d\n",
        "c = np.concatenate((a, b), axis=None)\n",
        "print(c) # [1 2 3 4 5 6]\n",
        "\n",
        "# add new row\n",
        "d = np.concatenate((a, b), axis=0)\n",
        "print(d)\n",
        "# [[1 2]\n",
        "#  [3 4]\n",
        "#  [5 6]]\n",
        "\n",
        "# add new column: note that we have to transpose b!\n",
        "e = np.concatenate((a, b.T), axis=1)\n",
        "print(e)\n",
        "# [[1 2 5]\n",
        "#  [3 4 6]]\n",
        "\n",
        "# hstack: Stack arrays in sequence horizontally (column wise). needs a tuple\n",
        "a = np.array([1,2,3,4])\n",
        "b = np.array([5,6,7,8])\n",
        "c = np.hstack((a,b))\n",
        "print(c) # [1 2 3 4 5 6 7 8]\n",
        "\n",
        "a = np.array([[1,2], [3,4]])\n",
        "b = np.array([[5,6], [7,8]])\n",
        "c = np.hstack((a,b))\n",
        "print(c)\n",
        "# [[1 2 5 6]\n",
        "#  [3 4 7 8]]\n",
        "\n",
        "# vstack: Stack arrays in sequence vertically (row wise). needs a tuple\n",
        "a = np.array([1,2,3,4])\n",
        "b = np.array([5,6,7,8])\n",
        "c = np.vstack((a,b))\n",
        "print(c)\n",
        "# [[1 2 3 4]\n",
        "#  [5 6 7 8]]\n",
        "\n",
        "a = np.array([[1,2], [3,4]])\n",
        "b = np.array([[5,6], [7,8]])\n",
        "c = np.vstack((a,b))\n",
        "print(c)\n",
        "# [[1 2]\n",
        "#  [3 4]\n",
        "#  [5 6]\n",
        "#  [7 8]]"
      ],
      "metadata": {
        "colab": {
          "base_uri": "https://localhost:8080/"
        },
        "id": "o9d9k0XM58wJ",
        "outputId": "0f7b49d7-8534-409e-f52d-b5ba168de7bc"
      },
      "execution_count": 63,
      "outputs": [
        {
          "output_type": "stream",
          "name": "stdout",
          "text": [
            "[1 2 3 4 5 6]\n",
            "[[1 2]\n",
            " [3 4]\n",
            " [5 6]]\n",
            "[[1 2 5]\n",
            " [3 4 6]]\n",
            "[1 2 3 4 5 6 7 8]\n",
            "[[1 2 5 6]\n",
            " [3 4 7 8]]\n",
            "[[1 2 3 4]\n",
            " [5 6 7 8]]\n",
            "[[1 2]\n",
            " [3 4]\n",
            " [5 6]\n",
            " [7 8]]\n"
          ]
        }
      ]
    },
    {
      "cell_type": "markdown",
      "source": [
        "# 10. Broadcasting"
      ],
      "metadata": {
        "id": "UGKV7K5N6-9h"
      }
    },
    {
      "cell_type": "code",
      "source": [
        "x = np.array([[1,2,3], [4,5,6], [7,8,9], [10, 11, 12]])\n",
        "y = np.array([1, 0, 1])\n",
        "z = x + y  # Add v to each row of x using broadcasting\n",
        "print(z)\n",
        "# [[ 2  2  4]\n",
        "#  [ 5  5  7]\n",
        "#  [ 8  8 10]\n",
        "#  [11 11 13]]"
      ],
      "metadata": {
        "colab": {
          "base_uri": "https://localhost:8080/"
        },
        "id": "K0SY6P4G62Z6",
        "outputId": "c98ed805-e808-4082-bda3-afe82035222e"
      },
      "execution_count": 64,
      "outputs": [
        {
          "output_type": "stream",
          "name": "stdout",
          "text": [
            "[[ 2  2  4]\n",
            " [ 5  5  7]\n",
            " [ 8  8 10]\n",
            " [11 11 13]]\n"
          ]
        }
      ]
    },
    {
      "cell_type": "markdown",
      "source": [
        "<div dir=\"rtl\" style=\"text-align: right;\">\n",
        "\n",
        "Broadcasting یک مکانیزم قدرتمند است که به numpy اجازه می‌دهد با آرایه‌هایی با شکل‌های متفاوت هنگام انجام عملیات‌های ریاضی کار کند. اغلب اوقات یک آرایه‌ی کوچکتر و یک آرایه‌ی بزرگتر داریم و می‌خواهیم از آرایه‌ی کوچکتر چندین بار برای انجام عملیاتی روی آرایه‌ی بزرگتر استفاده کنیم.\n",
        "\n",
        "</div>\n"
      ],
      "metadata": {
        "id": "0yZ63nB07Obv"
      }
    },
    {
      "cell_type": "markdown",
      "source": [
        "# 11. Functions and Axis"
      ],
      "metadata": {
        "id": "QJaIVFp2eMNT"
      }
    },
    {
      "cell_type": "markdown",
      "source": [
        "<p dir=\"rtl\">\n",
        "\n",
        "- آرایه‌ی `a` یک ماتریس `2×7` به شکل زیر است:\n",
        "[[ 7 8 9 10 11 12 13] [17 18 19 20 21 22 23]]\n",
        "\n",
        "\n",
        "### ✅ مجموع (Sum)\n",
        "- `a.sum()` یا `a.sum(axis=None)` : مجموع تمام عناصر → `210`\n",
        "- `a.sum(axis=0)` : جمع هر ستون (در امتداد سطرها) → `[24 26 28 30 32 34 36]`\n",
        "- `a.sum(axis=1)` : جمع هر سطر (در امتداد ستون‌ها) → `[70 140]`\n",
        "\n",
        "### ✅ میانگین (Mean)\n",
        "- `a.mean()` یا `a.mean(axis=None)` : میانگین کلی عناصر → `15.0`\n",
        "- `a.mean(axis=0)` : میانگین هر ستون → `[12. 13. 14. 15. 16. 17. 18.]`\n",
        "- `a.mean(axis=1)` : میانگین هر سطر → `[10. 20.]`\n",
        "\n",
        "### ℹ️ نکته:\n",
        "توابع آماری مانند `sum`, `mean`, `std`, `var`, `min`, `max` می‌توانند بر اساس محور دلخواه محاسبه شوند:\n",
        "- `axis=0`: اعمال روی ستون‌ها (سطر به سطر)\n",
        "- `axis=1`: اعمال روی سطرها (ستون به ستون)\n",
        "- `axis=None`: اعمال روی کل آرایه\n",
        "\n",
        "</p>\n"
      ],
      "metadata": {
        "id": "d2fh4Nlcefuu"
      }
    },
    {
      "cell_type": "code",
      "source": [
        "a = np.array([[7,8,9,10,11,12,13], [17,18,19,20,21,22,23]])\n",
        "\n",
        "print(a.sum())          # default=None-> 210\n",
        "print(a.sum(axis=None)) # overall sum -> 210\n",
        "\n",
        "print(a.sum(axis=0)) # along the rows -> 1 sum entry for each column\n",
        "# -> [24 26 28 30 32 34 36]\n",
        "\n",
        "print(a.sum(axis=1)) # along the columns -> 1 sum entry for each row\n",
        "# -> [ 70 140]\n",
        "\n",
        "\n",
        "print(a.mean())          # default=None-> 15.0\n",
        "print(a.mean(axis=None)) # overall mean -> 15.0\n",
        "\n",
        "print(a.mean(axis=0)) # along the rows -> 1 mean entry for each column\n",
        "# -> [12. 13. 14. 15. 16. 17. 18.]\n",
        "\n",
        "print(a.mean(axis=1)) # along the columns -> 1 mean entry for each row\n",
        "# -> [10. 20.]\n",
        "\n",
        "# some more: std, var, min, max"
      ],
      "metadata": {
        "colab": {
          "base_uri": "https://localhost:8080/"
        },
        "id": "W2ZjtxhReM_g",
        "outputId": "73b1bc95-748c-404a-ee44-0418ccb7773c"
      },
      "execution_count": 65,
      "outputs": [
        {
          "output_type": "stream",
          "name": "stdout",
          "text": [
            "210\n",
            "210\n",
            "[24 26 28 30 32 34 36]\n",
            "[ 70 140]\n",
            "15.0\n",
            "15.0\n",
            "[12. 13. 14. 15. 16. 17. 18.]\n",
            "[10. 20.]\n"
          ]
        }
      ]
    },
    {
      "cell_type": "markdown",
      "source": [
        "# 12. Datatypes"
      ],
      "metadata": {
        "id": "g45DYNUNepHC"
      }
    },
    {
      "cell_type": "markdown",
      "source": [
        "<p dir=\"rtl\">\n",
        "\n",
        "### نوع داده‌ها (Data Types) در NumPy\n",
        "\n",
        "- هنگام ساخت آرایه‌های NumPy، نوع داده (dtype) عناصر به صورت خودکار یا دستی تعیین می‌شود.\n",
        "\n",
        "---\n",
        "\n",
        "- `np.array([1, 2])`  \n",
        "  - چون مقادیر صحیح هستند، NumPy نوع `int32` را به صورت پیش‌فرض انتخاب می‌کند.\n",
        "  - خروجی: `int32`\n",
        "\n",
        "- `np.array([1.0, 2.0])`  \n",
        "  - چون مقادیر اعشاری هستند، NumPy نوع `float64` را انتخاب می‌کند (دقت ۶۴ بیتی).\n",
        "  - خروجی: `float64`\n",
        "\n",
        "---\n",
        "\n",
        "### 🔧 تعیین دستی نوع داده (dtype)\n",
        "\n",
        "- `np.array([1, 2], dtype=np.int64)`  \n",
        "  - نوع داده به صورت صریح `int64` مشخص شده (عدد صحیح با دقت ۶۴ بیت / ۸ بایت).\n",
        "  - خروجی: `int64`\n",
        "\n",
        "- `np.array([1, 2], dtype=np.float32)`  \n",
        "  - نوع داده به صورت `float32` مشخص شده (عدد اعشاری با دقت ۳۲ بیت / ۴ بایت).\n",
        "  - خروجی: `float32`\n",
        "\n",
        "---\n",
        "\n",
        "✅ با تعیین دقیق نوع داده، می‌توان بین **دقت عددی** و **مصرف حافظه** توازن ایجاد کرد، مخصوصاً در داده‌های بزرگ یا کاربردهای پردازشی خاص.\n",
        "\n",
        "</p>\n"
      ],
      "metadata": {
        "id": "MRWEdPebewHW"
      }
    },
    {
      "cell_type": "code",
      "source": [
        "# Let numpy choose the datatype\n",
        "x = np.array([1, 2])\n",
        "print(x.dtype) # int32\n",
        "\n",
        "# Let numpy choose the datatype\n",
        "x = np.array([1.0, 2.0])\n",
        "print(x.dtype) # float64\n",
        "\n",
        "# Force a particular datatype, how many bits (how precise)\n",
        "x = np.array([1, 2], dtype=np.int64) # 8 bytes\n",
        "print(x.dtype) # int64\n",
        "\n",
        "x = np.array([1, 2], dtype=np.float32) # 4 bytes\n",
        "print(x.dtype) # float32"
      ],
      "metadata": {
        "colab": {
          "base_uri": "https://localhost:8080/"
        },
        "id": "KWOv7-8JemYF",
        "outputId": "1e7138f3-84bd-427f-8356-16d5f97d7961"
      },
      "execution_count": 66,
      "outputs": [
        {
          "output_type": "stream",
          "name": "stdout",
          "text": [
            "int64\n",
            "float64\n",
            "int64\n",
            "float32\n"
          ]
        }
      ]
    },
    {
      "cell_type": "markdown",
      "source": [
        "# 13. Copying"
      ],
      "metadata": {
        "id": "hSGf4h0ae92K"
      }
    },
    {
      "cell_type": "markdown",
      "source": [
        "<p dir=\"rtl\">\n",
        "\n",
        "### 🔁 تفاوت بین **کپی ارجاعی** و **کپی واقعی** در NumPy\n",
        "\n",
        "- وقتی یک آرایه را مستقیماً به متغیر دیگری نسبت می‌دهیم (`b = a`)، در واقع فقط **ارجاع (reference)** آن آرایه کپی می‌شود، نه محتوای واقعی آن.\n",
        "\n",
        "```python\n",
        "a = np.array([1,2,3])\n",
        "b = a           # فقط ارجاع کپی می‌شود\n",
        "b[0] = 42       # تغییر در b باعث تغییر در a نیز می‌شود\n",
        "print(a)        # خروجی: [42  2  3]\n",
        "```\n",
        "\n",
        "- برای ایجاد یک **کپی واقعی از داده‌ها** (یعنی آرایه‌ی جدید در حافظه)، باید از متد `.copy()` استفاده کنیم:\n",
        "\n",
        "```python\n",
        "a = np.array([1,2,3])\n",
        "b = a.copy()    # کپی واقعی از داده‌ها\n",
        "b[0] = 42       # تغییر در b اثری روی a ندارد\n",
        "print(a)        # خروجی: [1  2  3]\n",
        "```\n",
        "\n",
        "✅ استفاده از `.copy()` در مواقعی که می‌خواهید داده‌ی اصلی دست‌نخورده باقی بماند **ضروری** است.\n",
        "\n",
        "</p>"
      ],
      "metadata": {
        "id": "r2gJtrFQfNBs"
      }
    },
    {
      "cell_type": "markdown",
      "source": [
        "# 14. Generating arrays"
      ],
      "metadata": {
        "id": "BsMhxwmifZLT"
      }
    },
    {
      "cell_type": "markdown",
      "source": [
        "<p dir=\"rtl\">\n",
        "\n",
        "### ساخت آرایه‌ها با مقادیر خاص در NumPy\n",
        "\n",
        "- NumPy امکانات زیادی برای ساخت آرایه‌های اولیه با مقادیر از پیش تعیین‌شده فراهم می‌کند.\n",
        "\n",
        "---\n",
        "\n",
        "- `np.zeros((2,3))`  \n",
        "  - آرایه‌ای `2×3` با مقدار صفر ایجاد می‌کند.\n",
        "  - خروجی:\n",
        "    ```\n",
        "    [[0. 0. 0.]\n",
        "     [0. 0. 0.]]\n",
        "    ```\n",
        "\n",
        "- `np.ones((2,3))`  \n",
        "  - آرایه‌ای `2×3` با مقدار یک ایجاد می‌کند.\n",
        "  - خروجی:\n",
        "    ```\n",
        "    [[1. 1. 1.]\n",
        "     [1. 1. 1.]]\n",
        "    ```\n",
        "\n",
        "- `np.full((3,3), 5.0)`  \n",
        "  - آرایه‌ای `3×3` با مقدار دلخواه `5.0` ایجاد می‌کند.\n",
        "  - خروجی:\n",
        "    ```\n",
        "    [[5. 5. 5.]\n",
        "     [5. 5. 5.]\n",
        "     [5. 5. 5.]]\n",
        "    ```\n",
        "\n",
        "- `np.eye(3)`  \n",
        "  - ماتریس همانی (واحد) `3×3` تولید می‌کند.\n",
        "  - خروجی:\n",
        "    ```\n",
        "    [[1. 0. 0.]\n",
        "     [0. 1. 0.]\n",
        "     [0. 0. 1.]]\n",
        "    ```\n",
        "\n",
        "- `np.arange(10)`  \n",
        "  - آرایه‌ای از اعداد صحیح پشت‌سر‌هم از `0` تا `9` ایجاد می‌کند.\n",
        "  - خروجی:\n",
        "    ```\n",
        "    [0 1 2 3 4 5 6 7 8 9]\n",
        "    ```\n",
        "\n",
        "- `np.linspace(0, 10, 5)`  \n",
        "  - آرایه‌ای شامل ۵ مقدار **با فاصله‌ی برابر** بین `0` تا `10` ایجاد می‌کند.\n",
        "  - خروجی:\n",
        "    ```\n",
        "    [ 0.   2.5  5.   7.5 10. ]\n",
        "    ```\n",
        "\n",
        "</p>\n"
      ],
      "metadata": {
        "id": "G9ZS24F_fiCi"
      }
    },
    {
      "cell_type": "code",
      "source": [
        "# zeros\n",
        "a = np.zeros((2,3)) # size as tuple\n",
        "# [[0. 0. 0.]\n",
        "#  [0. 0. 0.]]\n",
        "\n",
        "# ones\n",
        "b = np.ones((2,3))\n",
        "# [[1. 1. 1.]\n",
        "#  [1. 1. 1.]]\n",
        "\n",
        "# specific value\n",
        "c = np.full((3,3),5.0)\n",
        "# [[5. 5. 5.]\n",
        "#  [5. 5. 5.]\n",
        "#  [5. 5. 5.]]\n",
        "\n",
        "# identity\n",
        "d = np.eye(3) #3x3\n",
        "# [[1. 0. 0.]\n",
        "#  [0. 1. 0.]\n",
        "#  [0. 0. 1.]]\n",
        "\n",
        "# arange\n",
        "e = np.arange(10)\n",
        "# [0 1 2 3 4 5 6 7 8 9]\n",
        "\n",
        "# linspace\n",
        "f = np.linspace(0, 10, 5)\n",
        "# [ 0.  2.5  5.  7.5  10. ]"
      ],
      "metadata": {
        "id": "mwyuR5tuey0J"
      },
      "execution_count": 67,
      "outputs": []
    },
    {
      "cell_type": "markdown",
      "source": [
        "# 15. Random numbers"
      ],
      "metadata": {
        "id": "QbOVtbvdfm6B"
      }
    },
    {
      "cell_type": "markdown",
      "source": [
        "<p dir=\"rtl\">\n",
        "\n",
        "### تولید مقادیر تصادفی در NumPy\n",
        "\n",
        "NumPy امکانات متنوعی برای تولید داده‌های تصادفی فراهم می‌کند — از توزیع‌های یکنواخت و نرمال گرفته تا انتخاب تصادفی از آرایه‌ها.\n",
        "\n",
        "---\n",
        "\n",
        "#### 🎲 تولید اعداد تصادفی پیوسته\n",
        "\n",
        "- `np.random.random((3,2))`  \n",
        "  - تولید آرایه‌ای `3×2` با مقادیر تصادفی در بازه‌ی `[0, 1)` با **توزیع یکنواخت (Uniform)**.\n",
        "  - نمونه خروجی:\n",
        "    ```\n",
        "    [[0.06 0.10]\n",
        "     [0.83 0.54]\n",
        "     [0.94 0.19]]\n",
        "    ```\n",
        "\n",
        "- `np.random.randn(3,2)`  \n",
        "  - تولید آرایه‌ای `3×2` با مقادیر تصادفی دارای **توزیع نرمال استاندارد (میانگین ۰، واریانس ۱)**.\n",
        "  - نکته: در `randn` هر بعد به‌صورت جداگانه به عنوان آرگومان وارد می‌شود، نه به‌صورت `tuple`.\n",
        "\n",
        "---\n",
        "\n",
        "#### 📊 بررسی آماری\n",
        "\n",
        "- `np.random.randn(10000)`  \n",
        "  - ایجاد ۱۰,۰۰۰ عدد تصادفی با توزیع نرمال، سپس محاسبه‌ی میانگین، واریانس و انحراف معیار آن‌ها.\n",
        "  - میانگین تقریباً `0` و انحراف معیار تقریباً `1` خواهد بود.\n",
        "\n",
        "- `d.mean()`  \n",
        "  - میانگین کل عناصر آرایه‌ی `d` را محاسبه می‌کند.\n",
        "\n",
        "---\n",
        "\n",
        "#### 🔢 تولید اعداد صحیح تصادفی\n",
        "\n",
        "- `np.random.randint(3,10, size=(3,3))`  \n",
        "  - تولید آرایه‌ای `3×3` از اعداد صحیح تصادفی در بازه‌ی `[3, 10)`، یعنی از ۳ تا ۹.\n",
        "\n",
        "---\n",
        "\n",
        "#### 🎯 انتخاب تصادفی از مجموعه‌ای از اعداد\n",
        "\n",
        "- `np.random.choice(7, size=10)`  \n",
        "  - انتخاب ۱۰ عدد تصادفی از بین `[0, 1, 2, 3, 4, 5, 6]` (یعنی ۷ مقدار ممکن).\n",
        "\n",
        "- `np.random.choice([1,2,3,4], size=8)`  \n",
        "  - انتخاب ۸ عدد تصادفی از آرایه‌ی `[1, 2, 3, 4]` — مقدارها می‌توانند تکراری باشند.\n",
        "\n",
        "---\n",
        "\n",
        "✅ این توابع برای شبیه‌سازی آماری، تولید داده‌ی تمرینی، و تست مدل‌ها بسیار پرکاربرد هستند.\n",
        "\n",
        "</p>\n"
      ],
      "metadata": {
        "id": "BYHbi3-IfwhG"
      }
    },
    {
      "cell_type": "code",
      "source": [
        "a = np.random.random((3,2)) # uniform 0-1 distribution\n",
        "# [[0.06121857 0.10180167]\n",
        "#  [0.83321726 0.54906613]\n",
        "#  [0.94170273 0.19447411]]\n",
        "\n",
        "b = np.random.randn(3,2) # normal/Gaussian distribution, mean 0 and unit variance\n",
        "# no tuple as shape here! each dimension one argument\n",
        "# [[ 0.56759123 -0.65068333]\n",
        "#  [ 0.83445762 -0.36436185]\n",
        "#  [ 1.27150812 -0.32906051]]\n",
        "\n",
        "c = np.random.randn(10000)\n",
        "print(c.mean(), c.var(), c.std())\n",
        "# -0.0014 0.9933 0.9966\n",
        "\n",
        "d = np.random.randn(10, 3)\n",
        "print(d.mean()) # mean of whole array: -0.1076827228882305\n",
        "\n",
        "# random integer, low,high,size; high is exclusive\n",
        "e = np.random.randint(3,10,size=(3,3)) # if we only pass one parameter, then from 0-x\n",
        "print(e)\n",
        "# [[6 8 4]\n",
        "#  [3 6 3]\n",
        "#  [4 7 8]]\n",
        "\n",
        "# with integer is between 0 up to integer exclusive\n",
        "f = np.random.choice(7, size=10)\n",
        "# [2 0 4 5 1 3 4 0 0 6]\n",
        "\n",
        "# with an array it draws random values from this array\n",
        "g = np.random.choice([1,2,3,4], size=8)\n",
        "# [4 2 1 3 4 1 4 1]"
      ],
      "metadata": {
        "colab": {
          "base_uri": "https://localhost:8080/"
        },
        "id": "XE_QQQdufkqO",
        "outputId": "1d70f7a9-5a7c-42d3-c1ea-17da0077b0f8"
      },
      "execution_count": 68,
      "outputs": [
        {
          "output_type": "stream",
          "name": "stdout",
          "text": [
            "-0.003121542549126532 0.9824815955034428 0.9912020961960496\n",
            "-0.006312262412775293\n",
            "[[8 9 6]\n",
            " [6 6 6]\n",
            " [6 9 6]]\n"
          ]
        }
      ]
    },
    {
      "cell_type": "markdown",
      "source": [
        "# 16. Linear Algebra (Eigenvalues / Solving Linear Systems)"
      ],
      "metadata": {
        "id": "8tC9UD4wf1lF"
      }
    },
    {
      "cell_type": "markdown",
      "source": [
        "## Eigenvalues"
      ],
      "metadata": {
        "id": "tF-bY8iuf4me"
      }
    },
    {
      "cell_type": "markdown",
      "source": [
        "\n",
        "<p dir=\"rtl\">\n",
        "\n",
        "### مقادیر و بردارهای ویژه (Eigenvalues & Eigenvectors) در NumPy\n",
        "\n",
        "- با استفاده از تابع `np.linalg.eig(a)` می‌توان **مقادیر ویژه** و **بردارهای ویژه** یک ماتریس را محاسبه کرد.\n",
        "\n",
        "---\n",
        "\n",
        "#### 🧮 تعریف ماتریس:\n",
        "```python\n",
        "a = np.array([[1,2],\n",
        "              [3,4]])\n",
        "```\n",
        "\n",
        "---\n",
        "\n",
        "#### 🧠 محاسبه:\n",
        "\n",
        "- `eigenvalues, eigenvectors = np.linalg.eig(a)`  \n",
        "  - `eigenvalues`: آرایه‌ای شامل مقادیر ویژه.\n",
        "  - `eigenvectors`: ماتریسی که ستون‌های آن بردارهای ویژه‌ی مربوط به مقادیر ویژه هستند.\n",
        "\n",
        "  نمونه خروجی:\n",
        "  ```python\n",
        "  eigenvalues  = [-0.37228132  5.37228132]\n",
        "  eigenvectors = [[-0.82456484 -0.41597356]\n",
        "                  [ 0.56576746 -0.90937671]]\n",
        "  ```\n",
        "\n",
        "- `eigenvectors[:,0]`  \n",
        "  - ستون اول از ماتریس بردارهای ویژه → مربوط به مقدار ویژه‌ی اول.\n",
        "\n",
        "---\n",
        "\n",
        "#### ✅ بررسی رابطه‌ی اصلی:\n",
        "\n",
        "- رابطه‌ی پایه‌ای:\n",
        "  \\[\n",
        "  A \\cdot v = \\lambda \\cdot v\n",
        "  \\]\n",
        "  که در آن \\( v \\) بردار ویژه و \\( \\lambda \\) مقدار ویژه است.\n",
        "\n",
        "- با کد:\n",
        "  ```python\n",
        "  d = eigenvectors[:,0] * eigenvalues[0]\n",
        "  e = a @ eigenvectors[:, 0]\n",
        "  ```\n",
        "\n",
        "- در ظاهر `d` و `e` برابرند، اما مقایسه‌ی مستقیم با `==` ممکن است به خاطر خطاهای عددی (floating-point) درست عمل نکند:\n",
        "  ```python\n",
        "  d == e # ممکن است False باشد\n",
        "  ```\n",
        "\n",
        "- روش صحیح برای مقایسه‌ی عددی در NumPy:\n",
        "  ```python\n",
        "  np.allclose(d, e) # خروجی: True\n",
        "  ```\n",
        "\n",
        "---\n",
        "\n",
        "✅ اگر ماتریس شما **متقارن** باشد (Symmetric)، پیشنهاد می‌شود از تابع **`np.linalg.eigh`** استفاده کنید که سریع‌تر و دقیق‌تر است.\n",
        "\n",
        "</p>\n"
      ],
      "metadata": {
        "id": "PKvozl8qgMxd"
      }
    },
    {
      "cell_type": "code",
      "source": [
        "a = np.array([[1,2], [3,4]])\n",
        "eigenvalues, eigenvectors = np.linalg.eig(a)\n",
        "# Note: use eigh if your matrix is symmetric (faster)\n",
        "\n",
        "print(eigenvalues)\n",
        " #  [-0.37228132  5.37228132]\n",
        "\n",
        "print(eigenvectors) # column vectors\n",
        "# [[-0.82456484 -0.41597356]\n",
        "#  [ 0.56576746 -0.90937671]]\n",
        "\n",
        "print(eigenvectors[:,0]) # column 0 corresponding to eigenvalue[0]\n",
        "# [-0.82456484  0.56576746]\n",
        "\n",
        "# verify: e-vec * e-val = A * e-vec\n",
        "d = eigenvectors[:,0] * eigenvalues[0]\n",
        "e = a @ eigenvectors[:, 0]\n",
        "\n",
        "print(d, e) # [ 0.30697009 -0.21062466] [ 0.30697009 -0.21062466]\n",
        "# looks the same, but:\n",
        "print(d == e) # [ True False] -> numerical issues\n",
        "\n",
        "# correct way to compare matrix\n",
        "print(np.allclose(d,e)) # True"
      ],
      "metadata": {
        "colab": {
          "base_uri": "https://localhost:8080/"
        },
        "id": "FunZ4S6Lfqp-",
        "outputId": "88cb76d7-d403-4b36-8eee-c0766d1c6587"
      },
      "execution_count": 69,
      "outputs": [
        {
          "output_type": "stream",
          "name": "stdout",
          "text": [
            "[-0.37228132  5.37228132]\n",
            "[[-0.82456484 -0.41597356]\n",
            " [ 0.56576746 -0.90937671]]\n",
            "[-0.82456484  0.56576746]\n",
            "[ 0.30697009 -0.21062466] [ 0.30697009 -0.21062466]\n",
            "[ True False]\n",
            "True\n"
          ]
        }
      ]
    },
    {
      "cell_type": "markdown",
      "source": [
        "## Solving Linear Systems"
      ],
      "metadata": {
        "id": "htuRseBJf_UL"
      }
    },
    {
      "cell_type": "markdown",
      "source": [
        "\n",
        "<p dir=\"rtl\">\n",
        "\n",
        "### 🔎 حل دستگاه معادلات خطی با NumPy\n",
        "\n",
        "در این مثال، یک دستگاه دو معادله و دو مجهول داریم:\n",
        "\n",
        "\\[\n",
        "\\begin{cases}\n",
        "x_1 + x_2 = 2200 \\\\\n",
        "1.5x_1 + 4x_2 = 5050\n",
        "\\end{cases}\n",
        "\\]\n",
        "\n",
        "---\n",
        "\n",
        "### ✅ نمایش ماتریسی:\n",
        "این دستگاه را می‌توان به‌صورت \\( Ax = b \\) نوشت:\n",
        "\n",
        "- ماتریس ضرایب (A):\n",
        "```python\n",
        "A = np.array([[1, 1],\n",
        "              [1.5, 4]])\n",
        "```\n",
        "\n",
        "- بردار نتایج (b):\n",
        "```python\n",
        "b = np.array([2200, 5050])\n",
        "```\n",
        "\n",
        "---\n",
        "\n",
        "### ❌ روش نادرست (غیربهینه): استفاده از معکوس\n",
        "\n",
        "- `np.linalg.inv(A).dot(b)`  \n",
        "  - ابتدا معکوس ماتریس محاسبه شده و سپس در بردار ضرب می‌شود.\n",
        "  - گرچه جواب درست می‌دهد (`[1500. 700.]`)، اما:\n",
        "    - **کندتر**\n",
        "    - **کم‌دقت‌تر**\n",
        "    - **پایدار نبودن عددی (numerical instability)**\n",
        "\n",
        "---\n",
        "\n",
        "### ✅ روش توصیه‌شده: استفاده از `np.linalg.solve`\n",
        "\n",
        "- `np.linalg.solve(A, b)`  \n",
        "  - سریع‌تر و دقیق‌تر.\n",
        "  - مستقیماً دستگاه \\( Ax = b \\) را حل می‌کند.\n",
        "\n",
        "- خروجی:  \n",
        "  ```\n",
        "  x = [1500.  700.]\n",
        "  ```\n",
        "\n",
        "یعنی:\n",
        "- \\( x_1 = 1500 \\)\n",
        "- \\( x_2 = 700 \\)\n",
        "\n",
        "</p>"
      ],
      "metadata": {
        "id": "VCqqHHaYgnbg"
      }
    },
    {
      "cell_type": "code",
      "source": [
        "#     x1 + x2   = 2200\n",
        "# 1.5 x1 + 4 x2 = 5050\n",
        "# -> 2 equations and 2 unknowns\n",
        "A = np.array([[1, 1], [1.5, 4]])\n",
        "b = np.array([2200,5050])\n",
        "\n",
        "# Ax = b <=> x = A-1 b\n",
        "\n",
        "# But: inverse is slow and less accurate\n",
        "x = np.linalg.inv(A).dot(b) # not recommended\n",
        "print(x) # [1500.  700.]\n",
        "\n",
        "# instead use:\n",
        "x = np.linalg.solve(A,b) # good\n",
        "print(x) # [1500.  700.]"
      ],
      "metadata": {
        "colab": {
          "base_uri": "https://localhost:8080/"
        },
        "id": "R53q0Yfgf8r8",
        "outputId": "3ed4fef2-ce09-4b33-e2a5-6d2a8031f0c8"
      },
      "execution_count": 70,
      "outputs": [
        {
          "output_type": "stream",
          "name": "stdout",
          "text": [
            "[1500.  700.]\n",
            "[1500.  700.]\n"
          ]
        }
      ]
    },
    {
      "cell_type": "markdown",
      "source": [
        "# 17. Loading CSV files"
      ],
      "metadata": {
        "id": "UmPGP9Ddgs1a"
      }
    },
    {
      "cell_type": "markdown",
      "source": [
        "\n",
        "<p dir=\"rtl\">\n",
        "\n",
        "### 📄 خواندن داده از فایل CSV با NumPy\n",
        "\n",
        "NumPy توابع مختلفی برای بارگذاری داده‌های عددی از فایل‌ها فراهم می‌کند. در اینجا دو روش رایج بررسی شده‌اند:\n",
        "\n",
        "---\n",
        "\n",
        "### 1️⃣ `np.loadtxt()`\n",
        "\n",
        "- تابعی ساده و سریع برای خواندن فایل‌های متنی با مقادیر عددی.\n",
        "- مناسب وقتی که داده‌ها کامل و بدون مقادیر گمشده (missing values) باشند.\n",
        "\n",
        "```python\n",
        "data = np.loadtxt('my_file.csv', delimiter=\",\", dtype=np.float32)\n",
        "```\n",
        "\n",
        "- `delimiter=\",\"` → جداکننده‌ی ستون‌ها.\n",
        "- `dtype=np.float32` → نوع داده‌ی عددی.\n",
        "- می‌توان از `skiprows=1` برای نادیده گرفتن سطر عنوان (header) استفاده کرد.\n",
        "- نمونه خروجی:\n",
        "  ```python\n",
        "  print(data.shape, data.dtype)\n",
        "  ```\n",
        "\n",
        "---\n",
        "\n",
        "### 2️⃣ `np.genfromtxt()`\n",
        "\n",
        "- انعطاف‌پذیرتر از `loadtxt`، مخصوصاً در مواجهه با **داده‌های ناقص یا مقادیر گمشده**.\n",
        "\n",
        "```python\n",
        "data = np.genfromtxt('my_file.csv', delimiter=\",\", dtype=np.float32)\n",
        "```\n",
        "\n",
        "- پارامترهای اضافی:\n",
        "  - `skip_header=1` : رد کردن ردیف عنوان.\n",
        "  - `missing_values=\"---\"` : مقدار مشخصی را به عنوان داده‌ی گمشده شناسایی کند.\n",
        "  - `filling_values=0.0` : مقدار جایگزین برای سلول‌های گمشده.\n",
        "\n",
        "- مناسب برای داده‌هایی که ممکن است بعضی سلول‌ها پر نشده باشند یا با فرمت متفاوت ذخیره شده‌اند.\n",
        "\n",
        "---\n",
        "\n",
        "✅ انتخاب بین `loadtxt` و `genfromtxt` بستگی به ساختار فایل دارد:  \n",
        "- **ساده و تمیز؟** → `loadtxt`  \n",
        "- **با داده‌ی ناقص؟** → `genfromtxt`\n",
        "\n",
        "</p>"
      ],
      "metadata": {
        "id": "-yma0c1pgyTN"
      }
    },
    {
      "cell_type": "code",
      "source": [
        "# 1) load with np.loadtxt()\n",
        "# skiprows=1, ...\n",
        "data = np.loadtxt('my_file.csv', delimiter=\",\", dtype=np.float32, skiprows=1) # skip the first row (header)\n",
        "print(data.shape, data.dtype)\n",
        "\n",
        "# 2) load with np.genfromtxt()\n",
        "# similar but slightly more configuration parameters\n",
        "# skip_header=0, missing_values=\"---\", filling_values=0.0, ...\n",
        "data = np.genfromtxt('my_file.csv', delimiter=\",\", dtype=np.float32, skip_header=1) #skip the first row (header)\n",
        "print(data.shape)"
      ],
      "metadata": {
        "colab": {
          "base_uri": "https://localhost:8080/"
        },
        "id": "a998h0LCgB6_",
        "outputId": "946d2275-167b-4e68-bc33-eafdf02bc7ec"
      },
      "execution_count": 71,
      "outputs": [
        {
          "output_type": "stream",
          "name": "stdout",
          "text": [
            "(5, 3) float32\n",
            "(5, 3)\n"
          ]
        }
      ]
    },
    {
      "cell_type": "code",
      "source": [],
      "metadata": {
        "id": "gow1VzhWij8e"
      },
      "execution_count": 71,
      "outputs": []
    }
  ]
}